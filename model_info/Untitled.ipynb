{
 "cells": [
  {
   "cell_type": "code",
   "execution_count": 5,
   "metadata": {},
   "outputs": [],
   "source": [
    "from keras.layers import Layer, Dense, Input, Conv2D, UpSampling2D, RepeatVector\n",
    "from keras.layers import Flatten, Reshape, Conv2DTranspose, MaxPooling2D, Dropout, UpSampling2D\n",
    "from keras.layers.merge import concatenate\n",
    "from keras.engine.topology import Layer\n",
    "from keras.models import Model\n",
    "from keras.callbacks import ReduceLROnPlateau, ModelCheckpoint\n",
    "from keras.datasets import cifar10, cifar100\n",
    "from keras.utils import plot_model\n",
    "from keras import backend as K\n",
    "from keras import utils\n",
    "from keras.layers import Lambda\n",
    "\n",
    "input_shape = (32, 32, 1)\n",
    "kernel_size = 3\n",
    "layer_filters = [64, 128, 256]\n",
    "inputs = Input(shape=input_shape, name='encoder_input')\n",
    "x = inputs\n",
    "latent_dim = 256\n",
    "for filters in layer_filters:\n",
    "    x = Conv2D(filters=filters,\n",
    "            kernel_size=kernel_size,\n",
    "            strides=2,\n",
    "            activation='relu',\n",
    "            padding='same')(x)\n",
    "    x = Dropout(0.25)(x)\n",
    "shape = K.int_shape(x)\n",
    "# generate a latent vector\n",
    "x = Flatten()(x)\n",
    "latent = Dense(latent_dim, name='latent_vector')(x)\n",
    "# instantiate encoder model\n",
    "encoder = Model(inputs, latent, name='encoder')\n",
    "# build the decoder model\n",
    "latent_inputs = Input(shape=(latent_dim,), name='decoder_input')\n",
    "x = Dense(shape[1]*shape[2]*shape[3])(latent_inputs)\n",
    "x = Reshape((shape[1], shape[2], shape[3]))(x)\n",
    "for filters in layer_filters[::-1]:\n",
    "    x = Conv2DTranspose(filters=filters,\n",
    "                        kernel_size=kernel_size,\n",
    "                        strides=2,\n",
    "                        activation='relu',\n",
    "                        padding='same')(x)\n",
    "outputs = Conv2DTranspose(filters=2,\n",
    "                        kernel_size=kernel_size,\n",
    "                        activation='relu',\n",
    "                        padding='same',\n",
    "                        name='decoder_output')(x)\n",
    "# instantiate decoder model\n",
    "decoder = Model(latent_inputs, outputs, name='decoder')\n",
    "model = Model(inputs, decoder(encoder(inputs)))"
   ]
  },
  {
   "cell_type": "code",
   "execution_count": 6,
   "metadata": {},
   "outputs": [],
   "source": [
    "model_json = model.to_json()\n",
    "with open(\"model.json\", \"w\") as json_file:\n",
    "    json_file.write(model_json)"
   ]
  },
  {
   "cell_type": "code",
   "execution_count": 7,
   "metadata": {},
   "outputs": [],
   "source": [
    "# Network parameters\n",
    "input_shape = (32, 32, 1)\n",
    "batch_size = 20\n",
    "kernel_size = 3\n",
    "dropout = 0.1\n",
    "filters = [64, 128, 256]\n",
    "\n",
    "\n",
    "# Traditional convolution network\n",
    "inputs = Input(shape=input_shape)\n",
    "x = inputs\n",
    "# Three layers of Conv2D Dropout Max Pooling 2D\n",
    "for filtr in filters:\n",
    "    x = Conv2D(filters = filtr,\n",
    "              kernel_size = kernel_size,\n",
    "              padding = \"same\",\n",
    "              activation = \"relu\")(x)\n",
    "    x = MaxPooling2D()(x)\n",
    "    \n",
    "y_input = Input(shape=input_shape)\n",
    "y = y_input\n",
    "for m_filter in filters:\n",
    "    y = Conv2D(filters = m_filter,\n",
    "              kernel_size = kernel_size,\n",
    "              padding = \"same\",\n",
    "              activation = \"relu\",\n",
    "              dilation_rate=2)(y)\n",
    "    y = MaxPooling2D()(y)\n",
    "\n",
    "y = concatenate([x, y])\n",
    "    \n",
    "for filtr in filters[::-1]:\n",
    "    x = Conv2D(filters = filtr,\n",
    "              kernel_size = kernel_size,\n",
    "              padding = \"same\",\n",
    "              activation = \"relu\")(x)\n",
    "    x = UpSampling2D((2,2))(x)\n",
    "output = Conv2D(2, (3, 3), activation='sigmoid', padding='same')(x)\n",
    "model = Model(inputs, output)"
   ]
  },
  {
   "cell_type": "code",
   "execution_count": 8,
   "metadata": {},
   "outputs": [],
   "source": [
    "model_json = model.to_json()\n",
    "with open(\"model.json\", \"w\") as json_file:\n",
    "    json_file.write(model_json)"
   ]
  },
  {
   "cell_type": "code",
   "execution_count": null,
   "metadata": {},
   "outputs": [],
   "source": []
  }
 ],
 "metadata": {
  "kernelspec": {
   "display_name": "Python 3",
   "language": "python",
   "name": "python3"
  },
  "language_info": {
   "codemirror_mode": {
    "name": "ipython",
    "version": 3
   },
   "file_extension": ".py",
   "mimetype": "text/x-python",
   "name": "python",
   "nbconvert_exporter": "python",
   "pygments_lexer": "ipython3",
   "version": "3.6.7"
  }
 },
 "nbformat": 4,
 "nbformat_minor": 2
}
